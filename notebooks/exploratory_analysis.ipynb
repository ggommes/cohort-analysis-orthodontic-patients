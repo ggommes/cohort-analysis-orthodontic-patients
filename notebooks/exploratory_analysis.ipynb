{
 "cells": [
  {
   "cell_type": "code",
   "execution_count": 37,
   "id": "580f6dcd",
   "metadata": {},
   "outputs": [],
   "source": [
    "import pandas as pd\n",
    "import numpy as np\n",
    "import matplotlib.pyplot as plt\n",
    "import seaborn as sns"
   ]
  },
  {
   "cell_type": "code",
   "execution_count": 8,
   "id": "8c141e0e",
   "metadata": {},
   "outputs": [],
   "source": [
    "total_clients_df=pd.read_csv('total_clients_df.csv',parse_dates=['date'])\n",
    "ortho_installations_df=pd.read_csv('installations_df.csv',parse_dates=['date'])\n",
    "ortho_appointments_df=pd.read_csv('appointments_df.csv' ,parse_dates=['ortho_maintenance_date'])"
   ]
  },
  {
   "cell_type": "code",
   "execution_count": 9,
   "id": "76835a95",
   "metadata": {},
   "outputs": [
    {
     "name": "stdout",
     "output_type": "stream",
     "text": [
      "<class 'pandas.core.frame.DataFrame'>\n",
      "RangeIndex: 9057 entries, 0 to 9056\n",
      "Data columns (total 2 columns):\n",
      " #   Column      Non-Null Count  Dtype         \n",
      "---  ------      --------------  -----         \n",
      " 0   date        9057 non-null   datetime64[ns]\n",
      " 1   patient_id  9057 non-null   object        \n",
      "dtypes: datetime64[ns](1), object(1)\n",
      "memory usage: 141.6+ KB\n",
      "<class 'pandas.core.frame.DataFrame'>\n",
      "RangeIndex: 1655 entries, 0 to 1654\n",
      "Data columns (total 2 columns):\n",
      " #   Column      Non-Null Count  Dtype         \n",
      "---  ------      --------------  -----         \n",
      " 0   date        1655 non-null   datetime64[ns]\n",
      " 1   patient_id  1655 non-null   object        \n",
      "dtypes: datetime64[ns](1), object(1)\n",
      "memory usage: 26.0+ KB\n",
      "<class 'pandas.core.frame.DataFrame'>\n",
      "RangeIndex: 19648 entries, 0 to 19647\n",
      "Data columns (total 3 columns):\n",
      " #   Column                   Non-Null Count  Dtype         \n",
      "---  ------                   --------------  -----         \n",
      " 0   patient_id               19648 non-null  object        \n",
      " 1   ortho_maintenance_date   19648 non-null  datetime64[ns]\n",
      " 2   ortho_maintenance_count  19646 non-null  float64       \n",
      "dtypes: datetime64[ns](1), float64(1), object(1)\n",
      "memory usage: 460.6+ KB\n"
     ]
    }
   ],
   "source": [
    "total_clients_df.info()\n",
    "ortho_installations_df.info()\n",
    "ortho_appointments_df.info()"
   ]
  },
  {
   "cell_type": "code",
   "execution_count": 10,
   "id": "408d40e5",
   "metadata": {},
   "outputs": [
    {
     "name": "stdout",
     "output_type": "stream",
     "text": [
      " Descriptive Statistics for Initial Consultations of Total Patients Examed:\n"
     ]
    },
    {
     "data": {
      "text/html": [
       "<div>\n",
       "<style scoped>\n",
       "    .dataframe tbody tr th:only-of-type {\n",
       "        vertical-align: middle;\n",
       "    }\n",
       "\n",
       "    .dataframe tbody tr th {\n",
       "        vertical-align: top;\n",
       "    }\n",
       "\n",
       "    .dataframe thead th {\n",
       "        text-align: right;\n",
       "    }\n",
       "</style>\n",
       "<table border=\"1\" class=\"dataframe\">\n",
       "  <thead>\n",
       "    <tr style=\"text-align: right;\">\n",
       "      <th></th>\n",
       "      <th>date</th>\n",
       "    </tr>\n",
       "  </thead>\n",
       "  <tbody>\n",
       "    <tr>\n",
       "      <th>count</th>\n",
       "      <td>9057</td>\n",
       "    </tr>\n",
       "    <tr>\n",
       "      <th>mean</th>\n",
       "      <td>2023-03-29 22:26:40.264988416</td>\n",
       "    </tr>\n",
       "    <tr>\n",
       "      <th>min</th>\n",
       "      <td>2020-02-11 00:00:00</td>\n",
       "    </tr>\n",
       "    <tr>\n",
       "      <th>25%</th>\n",
       "      <td>2022-05-11 00:00:00</td>\n",
       "    </tr>\n",
       "    <tr>\n",
       "      <th>50%</th>\n",
       "      <td>2023-05-11 00:00:00</td>\n",
       "    </tr>\n",
       "    <tr>\n",
       "      <th>75%</th>\n",
       "      <td>2024-01-13 00:00:00</td>\n",
       "    </tr>\n",
       "    <tr>\n",
       "      <th>max</th>\n",
       "      <td>2025-06-04 00:00:00</td>\n",
       "    </tr>\n",
       "  </tbody>\n",
       "</table>\n",
       "</div>"
      ],
      "text/plain": [
       "                                date\n",
       "count                           9057\n",
       "mean   2023-03-29 22:26:40.264988416\n",
       "min              2020-02-11 00:00:00\n",
       "25%              2022-05-11 00:00:00\n",
       "50%              2023-05-11 00:00:00\n",
       "75%              2024-01-13 00:00:00\n",
       "max              2025-06-04 00:00:00"
      ]
     },
     "execution_count": 10,
     "metadata": {},
     "output_type": "execute_result"
    }
   ],
   "source": [
    "print(' Descriptive Statistics for Initial Consultations of Total Patients Examed:')\n",
    "total_clients_df.describe() ## since i altered the 'CPF' patient_id number in order to show the last 2 digits for not reveal the real patients real document number, the unique count values are wrong."
   ]
  },
  {
   "cell_type": "code",
   "execution_count": 11,
   "id": "d2e52d0f",
   "metadata": {},
   "outputs": [
    {
     "name": "stdout",
     "output_type": "stream",
     "text": [
      "Descriptive Statistics for the total of patients that initialiazed Orthodontic Treatments:\n"
     ]
    },
    {
     "data": {
      "text/html": [
       "<div>\n",
       "<style scoped>\n",
       "    .dataframe tbody tr th:only-of-type {\n",
       "        vertical-align: middle;\n",
       "    }\n",
       "\n",
       "    .dataframe tbody tr th {\n",
       "        vertical-align: top;\n",
       "    }\n",
       "\n",
       "    .dataframe thead th {\n",
       "        text-align: right;\n",
       "    }\n",
       "</style>\n",
       "<table border=\"1\" class=\"dataframe\">\n",
       "  <thead>\n",
       "    <tr style=\"text-align: right;\">\n",
       "      <th></th>\n",
       "      <th>date</th>\n",
       "    </tr>\n",
       "  </thead>\n",
       "  <tbody>\n",
       "    <tr>\n",
       "      <th>count</th>\n",
       "      <td>1655</td>\n",
       "    </tr>\n",
       "    <tr>\n",
       "      <th>mean</th>\n",
       "      <td>2022-02-25 19:10:15.589123840</td>\n",
       "    </tr>\n",
       "    <tr>\n",
       "      <th>min</th>\n",
       "      <td>2020-02-12 00:00:00</td>\n",
       "    </tr>\n",
       "    <tr>\n",
       "      <th>25%</th>\n",
       "      <td>2020-11-03 00:00:00</td>\n",
       "    </tr>\n",
       "    <tr>\n",
       "      <th>50%</th>\n",
       "      <td>2021-09-23 00:00:00</td>\n",
       "    </tr>\n",
       "    <tr>\n",
       "      <th>75%</th>\n",
       "      <td>2023-05-29 12:00:00</td>\n",
       "    </tr>\n",
       "    <tr>\n",
       "      <th>max</th>\n",
       "      <td>2025-06-04 00:00:00</td>\n",
       "    </tr>\n",
       "  </tbody>\n",
       "</table>\n",
       "</div>"
      ],
      "text/plain": [
       "                                date\n",
       "count                           1655\n",
       "mean   2022-02-25 19:10:15.589123840\n",
       "min              2020-02-12 00:00:00\n",
       "25%              2020-11-03 00:00:00\n",
       "50%              2021-09-23 00:00:00\n",
       "75%              2023-05-29 12:00:00\n",
       "max              2025-06-04 00:00:00"
      ]
     },
     "execution_count": 11,
     "metadata": {},
     "output_type": "execute_result"
    }
   ],
   "source": [
    "print('Descriptive Statistics for the total of patients that initialiazed Orthodontic Treatments:')\n",
    "ortho_installations_df.describe() ## since i altered the 'CPF' patient_id number in order to show the last 2 digits for not reveal the real patients real document number, the unique count values are wrong."
   ]
  },
  {
   "cell_type": "code",
   "execution_count": 12,
   "id": "3448d765",
   "metadata": {},
   "outputs": [
    {
     "name": "stdout",
     "output_type": "stream",
     "text": [
      "Descriptive Statistics for the orthodontic patients appointments records through the years\n"
     ]
    },
    {
     "data": {
      "text/html": [
       "<div>\n",
       "<style scoped>\n",
       "    .dataframe tbody tr th:only-of-type {\n",
       "        vertical-align: middle;\n",
       "    }\n",
       "\n",
       "    .dataframe tbody tr th {\n",
       "        vertical-align: top;\n",
       "    }\n",
       "\n",
       "    .dataframe thead th {\n",
       "        text-align: right;\n",
       "    }\n",
       "</style>\n",
       "<table border=\"1\" class=\"dataframe\">\n",
       "  <thead>\n",
       "    <tr style=\"text-align: right;\">\n",
       "      <th></th>\n",
       "      <th>ortho_maintenance_date</th>\n",
       "      <th>ortho_maintenance_count</th>\n",
       "    </tr>\n",
       "  </thead>\n",
       "  <tbody>\n",
       "    <tr>\n",
       "      <th>count</th>\n",
       "      <td>19648</td>\n",
       "      <td>19646.000000</td>\n",
       "    </tr>\n",
       "    <tr>\n",
       "      <th>mean</th>\n",
       "      <td>2022-10-08 03:24:55.114006528</td>\n",
       "      <td>11.067800</td>\n",
       "    </tr>\n",
       "    <tr>\n",
       "      <th>min</th>\n",
       "      <td>2020-02-12 00:00:00</td>\n",
       "      <td>1.000000</td>\n",
       "    </tr>\n",
       "    <tr>\n",
       "      <th>25%</th>\n",
       "      <td>2021-08-27 00:00:00</td>\n",
       "      <td>4.000000</td>\n",
       "    </tr>\n",
       "    <tr>\n",
       "      <th>50%</th>\n",
       "      <td>2022-09-01 00:00:00</td>\n",
       "      <td>9.000000</td>\n",
       "    </tr>\n",
       "    <tr>\n",
       "      <th>75%</th>\n",
       "      <td>2023-10-23 00:00:00</td>\n",
       "      <td>16.000000</td>\n",
       "    </tr>\n",
       "    <tr>\n",
       "      <th>max</th>\n",
       "      <td>2025-06-04 00:00:00</td>\n",
       "      <td>55.000000</td>\n",
       "    </tr>\n",
       "    <tr>\n",
       "      <th>std</th>\n",
       "      <td>NaN</td>\n",
       "      <td>9.111491</td>\n",
       "    </tr>\n",
       "  </tbody>\n",
       "</table>\n",
       "</div>"
      ],
      "text/plain": [
       "              ortho_maintenance_date  ortho_maintenance_count\n",
       "count                          19648             19646.000000\n",
       "mean   2022-10-08 03:24:55.114006528                11.067800\n",
       "min              2020-02-12 00:00:00                 1.000000\n",
       "25%              2021-08-27 00:00:00                 4.000000\n",
       "50%              2022-09-01 00:00:00                 9.000000\n",
       "75%              2023-10-23 00:00:00                16.000000\n",
       "max              2025-06-04 00:00:00                55.000000\n",
       "std                              NaN                 9.111491"
      ]
     },
     "execution_count": 12,
     "metadata": {},
     "output_type": "execute_result"
    }
   ],
   "source": [
    "print('Descriptive Statistics for the orthodontic patients appointments records through the years')\n",
    "ortho_appointments_df.describe()"
   ]
  },
  {
   "cell_type": "code",
   "execution_count": 13,
   "id": "6b4fad67",
   "metadata": {},
   "outputs": [
    {
     "data": {
      "text/html": [
       "<div>\n",
       "<style scoped>\n",
       "    .dataframe tbody tr th:only-of-type {\n",
       "        vertical-align: middle;\n",
       "    }\n",
       "\n",
       "    .dataframe tbody tr th {\n",
       "        vertical-align: top;\n",
       "    }\n",
       "\n",
       "    .dataframe thead th {\n",
       "        text-align: right;\n",
       "    }\n",
       "</style>\n",
       "<table border=\"1\" class=\"dataframe\">\n",
       "  <thead>\n",
       "    <tr style=\"text-align: right;\">\n",
       "      <th></th>\n",
       "      <th>patient_id</th>\n",
       "      <th>ortho_maintenance_date</th>\n",
       "      <th>ortho_maintenance_count</th>\n",
       "    </tr>\n",
       "  </thead>\n",
       "  <tbody>\n",
       "    <tr>\n",
       "      <th>0</th>\n",
       "      <td>*********20-05</td>\n",
       "      <td>2020-02-28</td>\n",
       "      <td>1.0</td>\n",
       "    </tr>\n",
       "    <tr>\n",
       "      <th>1</th>\n",
       "      <td>*********20-03</td>\n",
       "      <td>2020-02-12</td>\n",
       "      <td>1.0</td>\n",
       "    </tr>\n",
       "    <tr>\n",
       "      <th>2</th>\n",
       "      <td>*********30-63</td>\n",
       "      <td>2020-02-12</td>\n",
       "      <td>1.0</td>\n",
       "    </tr>\n",
       "    <tr>\n",
       "      <th>3</th>\n",
       "      <td>*********70-46</td>\n",
       "      <td>2020-02-28</td>\n",
       "      <td>1.0</td>\n",
       "    </tr>\n",
       "    <tr>\n",
       "      <th>4</th>\n",
       "      <td>*********00-01</td>\n",
       "      <td>2020-02-28</td>\n",
       "      <td>1.0</td>\n",
       "    </tr>\n",
       "    <tr>\n",
       "      <th>...</th>\n",
       "      <td>...</td>\n",
       "      <td>...</td>\n",
       "      <td>...</td>\n",
       "    </tr>\n",
       "    <tr>\n",
       "      <th>19643</th>\n",
       "      <td>*********02-36</td>\n",
       "      <td>2025-06-04</td>\n",
       "      <td>17.0</td>\n",
       "    </tr>\n",
       "    <tr>\n",
       "      <th>19644</th>\n",
       "      <td>*********80-32</td>\n",
       "      <td>2025-06-04</td>\n",
       "      <td>40.0</td>\n",
       "    </tr>\n",
       "    <tr>\n",
       "      <th>19645</th>\n",
       "      <td>*********80-66</td>\n",
       "      <td>2025-06-04</td>\n",
       "      <td>2.0</td>\n",
       "    </tr>\n",
       "    <tr>\n",
       "      <th>19646</th>\n",
       "      <td>*********50-90</td>\n",
       "      <td>2025-06-04</td>\n",
       "      <td>6.0</td>\n",
       "    </tr>\n",
       "    <tr>\n",
       "      <th>19647</th>\n",
       "      <td>*********60-11</td>\n",
       "      <td>2025-06-04</td>\n",
       "      <td>17.0</td>\n",
       "    </tr>\n",
       "  </tbody>\n",
       "</table>\n",
       "<p>19648 rows × 3 columns</p>\n",
       "</div>"
      ],
      "text/plain": [
       "           patient_id ortho_maintenance_date  ortho_maintenance_count\n",
       "0      *********20-05             2020-02-28                      1.0\n",
       "1      *********20-03             2020-02-12                      1.0\n",
       "2      *********30-63             2020-02-12                      1.0\n",
       "3      *********70-46             2020-02-28                      1.0\n",
       "4      *********00-01             2020-02-28                      1.0\n",
       "...               ...                    ...                      ...\n",
       "19643  *********02-36             2025-06-04                     17.0\n",
       "19644  *********80-32             2025-06-04                     40.0\n",
       "19645  *********80-66             2025-06-04                      2.0\n",
       "19646  *********50-90             2025-06-04                      6.0\n",
       "19647  *********60-11             2025-06-04                     17.0\n",
       "\n",
       "[19648 rows x 3 columns]"
      ]
     },
     "execution_count": 13,
     "metadata": {},
     "output_type": "execute_result"
    }
   ],
   "source": [
    "ortho_appointments_df"
   ]
  },
  {
   "cell_type": "code",
   "execution_count": 14,
   "id": "4222b028",
   "metadata": {},
   "outputs": [
    {
     "name": "stdout",
     "output_type": "stream",
     "text": [
      "Total patients who had an initial consultation:: 1233\n",
      "Total patients who proceeded with installation: 939\n",
      "Conversion rate from initial consultation to installation is: 76.16%\n"
     ]
    }
   ],
   "source": [
    "## 1-conversion rate of patients examined and patients that initiated orthodontic treatment\n",
    "\n",
    "total_pacientes_examinados = total_clients_df['patient_id'].nunique() ### Count the total number of unique patients who had an initial consultation. # This represents the total \"pool\" of potential customers\n",
    "print(f\"Total patients who had an initial consultation:: {total_pacientes_examinados}\")\n",
    "\n",
    "total_pacientes_instalacao = ortho_installations_df['patient_id'].nunique() ## Count the total number of unique patients who proceeded with an installation. # This represents the number of patients who converted\n",
    "print(f\"Total patients who proceeded with installation: {total_pacientes_instalacao}\")\n",
    "\n",
    "\n",
    "conversion_rate = (total_pacientes_instalacao / total_pacientes_examinados) * 100\n",
    "\n",
    "print(f\"Conversion rate from initial consultation to installation is: {conversion_rate:.2f}%\")\n",
    "\n"
   ]
  },
  {
   "cell_type": "code",
   "execution_count": 15,
   "id": "0d1b8c8c",
   "metadata": {},
   "outputs": [
    {
     "name": "stdout",
     "output_type": "stream",
     "text": [
      "Distribution of Maintenance Appointments per Patient\n",
      "ortho_maintenance_count\n",
      "1.0     62\n",
      "2.0     50\n",
      "3.0     43\n",
      "4.0     36\n",
      "5.0     30\n",
      "6.0     57\n",
      "7.0     37\n",
      "8.0     39\n",
      "9.0     45\n",
      "10.0    21\n",
      "11.0    33\n",
      "12.0    23\n",
      "13.0    14\n",
      "14.0    24\n",
      "15.0    21\n",
      "16.0    24\n",
      "17.0    28\n",
      "18.0    24\n",
      "19.0    21\n",
      "20.0    17\n",
      "21.0    24\n",
      "22.0    21\n",
      "23.0    23\n",
      "24.0    15\n",
      "25.0    10\n",
      "26.0    18\n",
      "27.0    14\n",
      "28.0    24\n",
      "29.0    18\n",
      "30.0    13\n",
      "31.0    11\n",
      "32.0    13\n",
      "33.0     2\n",
      "34.0     7\n",
      "35.0     5\n",
      "36.0    13\n",
      "37.0     4\n",
      "38.0     8\n",
      "39.0     8\n",
      "40.0     3\n",
      "41.0     7\n",
      "42.0     5\n",
      "43.0     2\n",
      "44.0     2\n",
      "45.0     3\n",
      "46.0     2\n",
      "47.0     1\n",
      "48.0     4\n",
      "49.0     1\n",
      "51.0     2\n",
      "55.0     1\n",
      "Name: count, dtype: int64\n",
      "\n",
      "Total unique patients in the appointments table: 933\n",
      "The avarage number of appointments a patient show's is: 15\n"
     ]
    }
   ],
   "source": [
    "## Appointment Distribution per Patient\n",
    "\n",
    "appointment_counts_per_patient = ortho_appointments_df.groupby('patient_id')['ortho_maintenance_count'].max() ## Group the data by patient and find the maximum (total) number of appointments. As result,the index is the patient_id and the value is the total appointments.\n",
    "\n",
    "appointment_distribution = appointment_counts_per_patient.value_counts().sort_index() ## Here the result shows how many patients had 1, 2, 3, 4, etc. appointments.\n",
    "\n",
    "print('Distribution of Maintenance Appointments per Patient')\n",
    "print(appointment_distribution)\n",
    "print(f\"\\nTotal unique patients in the appointments table: {len(appointment_counts_per_patient)}\") ## distribution and the total unique patients.\n",
    "avg_appointments_per_patient = appointment_counts_per_patient.mean()\n",
    "print(f\"The avarage number of appointments a patient show's is: {avg_appointments_per_patient:.0f}\")"
   ]
  },
  {
   "cell_type": "code",
   "execution_count": 21,
   "id": "6be09746",
   "metadata": {},
   "outputs": [
    {
     "name": "stdout",
     "output_type": "stream",
     "text": [
      "The average interval between maintenance appointments is: 43.71 days.\n"
     ]
    }
   ],
   "source": [
    "## Average interval (in days) between maintenance appointments\n",
    "\n",
    "ortho_appointments_sorted = ortho_appointments_df.sort_values(by=['patient_id', 'ortho_maintenance_date']) ## First order data by patient_id and date\n",
    "\n",
    "appointment_intervals = ortho_appointments_sorted.groupby('patient_id')['ortho_maintenance_date'].diff().dt.days ## Calculate the time difference between consecutive appointments for each patient, then extract the number of days with `.dt.days`\n",
    "\n",
    "average_interval_days = appointment_intervals.dropna().mean() ## drop the nan values (which are the first appointment for each patient) and calculate the mean.\n",
    "\n",
    "print(f\"The average interval between maintenance appointments is: {average_interval_days:.2f} days.\")\n"
   ]
  },
  {
   "cell_type": "code",
   "execution_count": 22,
   "id": "158ecabd",
   "metadata": {},
   "outputs": [
    {
     "name": "stdout",
     "output_type": "stream",
     "text": [
      "New patients initial consultations by month\n",
      "date\n",
      "2020-02     16\n",
      "2020-03     21\n",
      "2020-04      8\n",
      "2020-05     13\n",
      "2020-06      8\n",
      "          ... \n",
      "2025-02    156\n",
      "2025-03    241\n",
      "2025-04    105\n",
      "2025-05    130\n",
      "2025-06     29\n",
      "Freq: M, Length: 64, dtype: int64\n",
      "New orthodontic installations by month\n",
      "date\n",
      "2020-02    14\n",
      "2020-03    17\n",
      "2020-04    43\n",
      "2020-05    67\n",
      "2020-06    51\n",
      "           ..\n",
      "2025-02    17\n",
      "2025-03    12\n",
      "2025-04     6\n",
      "2025-05     8\n",
      "2025-06     2\n",
      "Freq: M, Length: 65, dtype: int64\n",
      "Number of appointments by month\n",
      "ortho_maintenance_date\n",
      "2020-02     11\n",
      "2020-03     22\n",
      "2020-04     60\n",
      "2020-05    116\n",
      "2020-06    148\n",
      "          ... \n",
      "2025-02    262\n",
      "2025-03    265\n",
      "2025-04    234\n",
      "2025-05    195\n",
      "2025-06     37\n",
      "Freq: M, Length: 65, dtype: int64\n"
     ]
    }
   ],
   "source": [
    "## Monthly Trend Analysis\n",
    "\n",
    "monthly_consultations = total_clients_df.groupby(total_clients_df['date'].dt.to_period('M')).size() ## Group and count initial consultations by month/year.\n",
    "print('New patients initial consultations by month')\n",
    "print(monthly_consultations)\n",
    "\n",
    "monthly_installations = ortho_installations_df.groupby(ortho_installations_df['date'].dt.to_period('M')).size() ## Group and count installations by month/year.\n",
    "print('New orthodontic installations by month')\n",
    "print(monthly_installations)\n",
    "\n",
    "monthly_appointments = ortho_appointments_df.groupby(ortho_appointments_df['ortho_maintenance_date'].dt.to_period('M')).size() ## Group and count appointments by month/year.\n",
    "print('Number of appointments by month')\n",
    "print(monthly_appointments)"
   ]
  },
  {
   "cell_type": "code",
   "execution_count": 61,
   "id": "1156b9a9",
   "metadata": {},
   "outputs": [
    {
     "name": "stdout",
     "output_type": "stream",
     "text": [
      "Patient Classification by Engagement Level:\n",
      "\n",
      "                 Engagement level\n",
      "patient_id                       \n",
      "*********00-00    High Engagement\n",
      "*********00-01  Medium Engagement\n",
      "*********00-02     Low Engagement\n",
      "*********00-03     Low Engagement\n",
      "*********00-04    High Engagement\n",
      "\n",
      " Count of patients by engagement level\n",
      "\n",
      "Engagement level\n",
      "Low Engagement       476\n",
      "Medium Engagement    256\n",
      "High Engagement      201\n",
      "Name: count, dtype: int64\n"
     ]
    }
   ],
   "source": [
    "## calculate total appointments per patient ---\n",
    "appointment_counts_per_patient = ortho_appointments_df.groupby('patient_id')['ortho_maintenance_count'].max()\n",
    "\n",
    "## define the engagement criteria. by number of appointments per patient\n",
    "\n",
    "bins = [0, 12, 24, float('inf')]\n",
    "labels = ['Low Engagement', 'Medium Engagement', 'High Engagement']\n",
    "\n",
    "## create the new classification column. using pd.cut() to categorize each patient\n",
    "engagement_levels = pd.cut(appointment_counts_per_patient, bins=bins, labels=labels, right=True)\n",
    "\n",
    "## final DataFrame for the visualization\n",
    "df_engajament = engagement_levels.to_frame(name='Engagement level')\n",
    "\n",
    "\n",
    "print(\"Patient Classification by Engagement Level:\\n\")\n",
    "print(df_engajament.head())\n",
    "\n",
    "## Total patient count in each level\n",
    "contagem_engajamento = df_engajament['Engagement level'].value_counts().sort_index()\n",
    "print(\"\\n Count of patients by engagement level\\n\")\n",
    "print(contagem_engajamento)"
   ]
  },
  {
   "cell_type": "code",
   "execution_count": 64,
   "id": "70b7ffbe",
   "metadata": {},
   "outputs": [
    {
     "name": "stderr",
     "output_type": "stream",
     "text": [
      "C:\\Program Files\\KMSpico\\temp\\ipykernel_3948\\951189183.py:2: FutureWarning: \n",
      "\n",
      "Passing `palette` without assigning `hue` is deprecated and will be removed in v0.14.0. Assign the `x` variable to `hue` and set `legend=False` for the same effect.\n",
      "\n",
      "  ax = sns.barplot(x=contagem_engajamento.index, y=contagem_engajamento.values, palette='Blues')\n"
     ]
    },
    {
     "data": {
      "image/png": "[encoded data removed]",
      "text/plain": [
       "<Figure size 640x480 with 1 Axes>"
      ]
     },
     "metadata": {},
     "output_type": "display_data"
    },
    {
     "name": "stdout",
     "output_type": "stream",
     "text": [
      "\n",
      "Patient Count by Engagement Level\n",
      "\n",
      "Engagement level\n",
      "Low Engagement       476\n",
      "Medium Engagement    256\n",
      "High Engagement      201\n",
      "Name: count, dtype: int64\n"
     ]
    }
   ],
   "source": [
    "##Create the bar chart\n",
    "ax = sns.barplot(x=contagem_engajamento.index, y=contagem_engajamento.values, palette='Blues')\n",
    "\n",
    "## add each bar with the patient count\n",
    "for p in ax.patches:\n",
    "    ax.annotate(f'{int(p.get_height())}', (p.get_x() + p.get_width() / 2., p.get_height()),\n",
    "                ha='center', va='center', fontsize=12, color='black', xytext=(0, 5),\n",
    "                textcoords='offset points')\n",
    "\n",
    "plt.title('Patient Count by Engagement Level', fontsize=14)\n",
    "plt.xlabel(' ', fontsize=10)\n",
    "plt.ylabel(' ', fontsize=12)\n",
    "plt.grid(axis='y', linestyle='--', alpha=0.7)\n",
    "plt.tight_layout()\n",
    "plt.show()\n",
    "\n",
    "print(\"\\nPatient Count by Engagement Level\\n\")\n",
    "print(contagem_engajamento)"
   ]
  },
  {
   "cell_type": "code",
   "execution_count": null,
   "id": "546e984d",
   "metadata": {},
   "outputs": [],
   "source": []
  },
  {
   "cell_type": "code",
   "execution_count": 63,
   "id": "b8ff65b8",
   "metadata": {},
   "outputs": [
    {
     "name": "stdout",
     "output_type": "stream",
     "text": [
      "The average maintenance appointment interval is: 43.71 days.\n",
      "Dropout criterion: Last appointment was more than 131.14 days ago.\n",
      "Total number of patients who had an installation: 939\n",
      "Number of patients who seem to have abandoned treatment: 555\n",
      "Proportion of patients who abandoned treatment: 59.11%\n"
     ]
    }
   ],
   "source": [
    "##  Find the most recent appointment date for each patient\n",
    "last_appointment = ortho_appointments_df.groupby('patient_id')['ortho_maintenance_date'].max()\n",
    "\n",
    "##  Sort the dataframe by patient and date to calculate intervals \n",
    "sorted_appointments_df = ortho_appointments_df.sort_values(by=['patient_id', 'ortho_maintenance_date'])\n",
    "appointment_intervals = sorted_appointments_df.groupby('patient_id')['ortho_maintenance_date'].diff().dt.days ## ## interval in days between consecutive appointments for each patient\n",
    "mean_interval_days = appointment_intervals.dropna().mean() ##average interval from the valid intervals (ignoring the first NaN for each patient)##\n",
    "print(f\"The average maintenance appointment interval is: {mean_interval_days:.2f} days.\")\n",
    "\n",
    "## Define the abandonment criterion  (3 times the average interval).##\n",
    "dropout_limit_days = mean_interval_days * 3\n",
    "\n",
    "##Get the most recent date from the entire dataset to serve as a reference point.##\n",
    "current_date = ortho_appointments_df['ortho_maintenance_date'].max() \n",
    "print(f\"Dropout criterion: Last appointment was more than {dropout_limit_days:.2f} days ago.\")\n",
    "\n",
    "days_since_last_appointment = (current_date - last_appointment).dt.days\n",
    "abandoned_patients = days_since_last_appointment[days_since_last_appointment > dropout_limit_days]\n",
    "\n",
    "##total number of patients who had an installation.##\n",
    "num_patients_with_installation = ortho_installations_df['patient_id'].nunique()\n",
    "\n",
    "##Calculate the proportion of abandoned patients relative to all patients with an installation.##\n",
    "dropout_proportion = (len(abandoned_patients) / num_patients_with_installation) * 100\n",
    "\n",
    "\n",
    "print(f\"Total number of patients who had an installation: {num_patients_with_installation}\")\n",
    "print(f\"Number of patients who seem to have abandoned treatment: {len(abandoned_patients)}\")\n",
    "print(f\"Proportion of patients who abandoned treatment: {dropout_proportion:.2f}%\")\n"
   ]
  }
 ],
 "metadata": {
  "kernelspec": {
   "display_name": "base",
   "language": "python",
   "name": "python3"
  },
  "language_info": {
   "codemirror_mode": {
    "name": "ipython",
    "version": 3
   },
   "file_extension": ".py",
   "mimetype": "text/x-python",
   "name": "python",
   "nbconvert_exporter": "python",
   "pygments_lexer": "ipython3",
   "version": "3.13.5"
  }
 },
 "nbformat": 4,
 "nbformat_minor": 5
}
