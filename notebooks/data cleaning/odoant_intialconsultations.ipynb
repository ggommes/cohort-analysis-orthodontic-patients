{
 "cells": [
  {
   "cell_type": "code",
   "execution_count": 66,
   "id": "55143742",
   "metadata": {},
   "outputs": [],
   "source": [
    "import pandas as pd\n",
    "import numpy as np"
   ]
  },
  {
   "cell_type": "code",
   "execution_count": 67,
   "id": "8b52d05c",
   "metadata": {},
   "outputs": [],
   "source": [
    "initial_consultations_df=pd.read_csv('C:/Users/Usuario/Desktop/dados clinica/tablescsv/odoant.csv')"
   ]
  },
  {
   "cell_type": "code",
   "execution_count": 68,
   "id": "63903a7a",
   "metadata": {},
   "outputs": [
    {
     "name": "stdout",
     "output_type": "stream",
     "text": [
      "<class 'pandas.core.frame.DataFrame'>\n",
      "RangeIndex: 9057 entries, 0 to 9056\n",
      "Data columns (total 7 columns):\n",
      " #   Column    Non-Null Count  Dtype \n",
      "---  ------    --------------  ----- \n",
      " 0   LANCTO    9057 non-null   int64 \n",
      " 1   CNPJ_CPF  9057 non-null   object\n",
      " 2   CONTROLE  9057 non-null   int64 \n",
      " 3   ANOTACAO  9057 non-null   object\n",
      " 4   DATA      9057 non-null   object\n",
      " 5   USUARIO   8967 non-null   object\n",
      " 6   TERMINAL  9057 non-null   int64 \n",
      "dtypes: int64(3), object(4)\n",
      "memory usage: 495.4+ KB\n"
     ]
    }
   ],
   "source": [
    "initial_consultations_df.info()"
   ]
  },
  {
   "cell_type": "code",
   "execution_count": 69,
   "id": "7061140d",
   "metadata": {},
   "outputs": [
    {
     "data": {
      "text/html": [
       "<div>\n",
       "<style scoped>\n",
       "    .dataframe tbody tr th:only-of-type {\n",
       "        vertical-align: middle;\n",
       "    }\n",
       "\n",
       "    .dataframe tbody tr th {\n",
       "        vertical-align: top;\n",
       "    }\n",
       "\n",
       "    .dataframe thead th {\n",
       "        text-align: right;\n",
       "    }\n",
       "</style>\n",
       "<table border=\"1\" class=\"dataframe\">\n",
       "  <thead>\n",
       "    <tr style=\"text-align: right;\">\n",
       "      <th></th>\n",
       "      <th>LANCTO</th>\n",
       "      <th>CONTROLE</th>\n",
       "      <th>TERMINAL</th>\n",
       "    </tr>\n",
       "  </thead>\n",
       "  <tbody>\n",
       "    <tr>\n",
       "      <th>count</th>\n",
       "      <td>9057.000000</td>\n",
       "      <td>9057.000000</td>\n",
       "      <td>9057.000000</td>\n",
       "    </tr>\n",
       "    <tr>\n",
       "      <th>mean</th>\n",
       "      <td>14106.159766</td>\n",
       "      <td>1.989842</td>\n",
       "      <td>3.421663</td>\n",
       "    </tr>\n",
       "    <tr>\n",
       "      <th>std</th>\n",
       "      <td>4657.685191</td>\n",
       "      <td>1.588561</td>\n",
       "      <td>3.821761</td>\n",
       "    </tr>\n",
       "    <tr>\n",
       "      <th>min</th>\n",
       "      <td>1004.000000</td>\n",
       "      <td>1.000000</td>\n",
       "      <td>2.000000</td>\n",
       "    </tr>\n",
       "    <tr>\n",
       "      <th>25%</th>\n",
       "      <td>10901.000000</td>\n",
       "      <td>1.000000</td>\n",
       "      <td>2.000000</td>\n",
       "    </tr>\n",
       "    <tr>\n",
       "      <th>50%</th>\n",
       "      <td>15044.000000</td>\n",
       "      <td>1.000000</td>\n",
       "      <td>2.000000</td>\n",
       "    </tr>\n",
       "    <tr>\n",
       "      <th>75%</th>\n",
       "      <td>17522.000000</td>\n",
       "      <td>2.000000</td>\n",
       "      <td>2.000000</td>\n",
       "    </tr>\n",
       "    <tr>\n",
       "      <th>max</th>\n",
       "      <td>21573.000000</td>\n",
       "      <td>18.000000</td>\n",
       "      <td>16.000000</td>\n",
       "    </tr>\n",
       "  </tbody>\n",
       "</table>\n",
       "</div>"
      ],
      "text/plain": [
       "             LANCTO     CONTROLE     TERMINAL\n",
       "count   9057.000000  9057.000000  9057.000000\n",
       "mean   14106.159766     1.989842     3.421663\n",
       "std     4657.685191     1.588561     3.821761\n",
       "min     1004.000000     1.000000     2.000000\n",
       "25%    10901.000000     1.000000     2.000000\n",
       "50%    15044.000000     1.000000     2.000000\n",
       "75%    17522.000000     2.000000     2.000000\n",
       "max    21573.000000    18.000000    16.000000"
      ]
     },
     "execution_count": 69,
     "metadata": {},
     "output_type": "execute_result"
    }
   ],
   "source": [
    "initial_consultations_df.describe()"
   ]
  },
  {
   "cell_type": "code",
   "execution_count": 70,
   "id": "fa8c2e28",
   "metadata": {},
   "outputs": [
    {
     "data": {
      "text/html": [
       "<div>\n",
       "<style scoped>\n",
       "    .dataframe tbody tr th:only-of-type {\n",
       "        vertical-align: middle;\n",
       "    }\n",
       "\n",
       "    .dataframe tbody tr th {\n",
       "        vertical-align: top;\n",
       "    }\n",
       "\n",
       "    .dataframe thead th {\n",
       "        text-align: right;\n",
       "    }\n",
       "</style>\n",
       "<table border=\"1\" class=\"dataframe\">\n",
       "  <thead>\n",
       "    <tr style=\"text-align: right;\">\n",
       "      <th></th>\n",
       "      <th>LANCTO</th>\n",
       "      <th>CNPJ_CPF</th>\n",
       "      <th>CONTROLE</th>\n",
       "      <th>ANOTACAO</th>\n",
       "      <th>DATA</th>\n",
       "      <th>USUARIO</th>\n",
       "      <th>TERMINAL</th>\n",
       "    </tr>\n",
       "  </thead>\n",
       "  <tbody>\n",
       "    <tr>\n",
       "      <th>0</th>\n",
       "      <td>1004</td>\n",
       "      <td>032.231.620-03</td>\n",
       "      <td>1</td>\n",
       "      <td>3X CARTAO</td>\n",
       "      <td>2020-02-11</td>\n",
       "      <td>SUE</td>\n",
       "      <td>4</td>\n",
       "    </tr>\n",
       "    <tr>\n",
       "      <th>1</th>\n",
       "      <td>1008</td>\n",
       "      <td>047.343.900-02</td>\n",
       "      <td>1</td>\n",
       "      <td>VALOR TOTAL 1000,00 - ENT.200,00+8X100,00 NO C...</td>\n",
       "      <td>2020-02-12</td>\n",
       "      <td>ODONTO</td>\n",
       "      <td>4</td>\n",
       "    </tr>\n",
       "    <tr>\n",
       "      <th>2</th>\n",
       "      <td>1057</td>\n",
       "      <td>285.211.370-87</td>\n",
       "      <td>1</td>\n",
       "      <td>ENTRADA DE 500 + 10 VEZES DE XXXX</td>\n",
       "      <td>2020-02-12</td>\n",
       "      <td>GUILHERME</td>\n",
       "      <td>4</td>\n",
       "    </tr>\n",
       "    <tr>\n",
       "      <th>3</th>\n",
       "      <td>1063</td>\n",
       "      <td>645.084.550-34</td>\n",
       "      <td>1</td>\n",
       "      <td>DECONTO 100</td>\n",
       "      <td>2020-02-12</td>\n",
       "      <td>ANA CAROLINA</td>\n",
       "      <td>4</td>\n",
       "    </tr>\n",
       "    <tr>\n",
       "      <th>4</th>\n",
       "      <td>1190</td>\n",
       "      <td>041.393.770-46</td>\n",
       "      <td>1</td>\n",
       "      <td>CONTRATO ODC + APARELHO</td>\n",
       "      <td>2020-02-28</td>\n",
       "      <td>GUILHERME</td>\n",
       "      <td>2</td>\n",
       "    </tr>\n",
       "  </tbody>\n",
       "</table>\n",
       "</div>"
      ],
      "text/plain": [
       "   LANCTO        CNPJ_CPF  CONTROLE  \\\n",
       "0    1004  032.231.620-03         1   \n",
       "1    1008  047.343.900-02         1   \n",
       "2    1057  285.211.370-87         1   \n",
       "3    1063  645.084.550-34         1   \n",
       "4    1190  041.393.770-46         1   \n",
       "\n",
       "                                            ANOTACAO        DATA  \\\n",
       "0                                          3X CARTAO  2020-02-11   \n",
       "1  VALOR TOTAL 1000,00 - ENT.200,00+8X100,00 NO C...  2020-02-12   \n",
       "2                  ENTRADA DE 500 + 10 VEZES DE XXXX  2020-02-12   \n",
       "3                                        DECONTO 100  2020-02-12   \n",
       "4                            CONTRATO ODC + APARELHO  2020-02-28   \n",
       "\n",
       "        USUARIO  TERMINAL  \n",
       "0           SUE         4  \n",
       "1        ODONTO         4  \n",
       "2     GUILHERME         4  \n",
       "3  ANA CAROLINA         4  \n",
       "4     GUILHERME         2  "
      ]
     },
     "execution_count": 70,
     "metadata": {},
     "output_type": "execute_result"
    }
   ],
   "source": [
    "initial_consultations_df.head()"
   ]
  },
  {
   "cell_type": "code",
   "execution_count": 71,
   "id": "f474650a",
   "metadata": {},
   "outputs": [
    {
     "data": {
      "text/plain": [
       "0      2020-02-11\n",
       "1      2020-02-12\n",
       "2      2020-02-12\n",
       "3      2020-02-12\n",
       "4      2020-02-28\n",
       "          ...    \n",
       "9052   2025-06-04\n",
       "9053   2025-06-04\n",
       "9054   2025-06-04\n",
       "9055   2025-06-04\n",
       "9056   2025-06-04\n",
       "Name: DATA, Length: 9057, dtype: datetime64[ns]"
      ]
     },
     "execution_count": 71,
     "metadata": {},
     "output_type": "execute_result"
    }
   ],
   "source": [
    "pd.to_datetime(initial_consultations_df.DATA)"
   ]
  },
  {
   "cell_type": "code",
   "execution_count": 72,
   "id": "7bf3bbe8",
   "metadata": {},
   "outputs": [],
   "source": [
    "initial_consultations_df['DATA'] = pd.to_datetime(initial_consultations_df.DATA)"
   ]
  },
  {
   "cell_type": "code",
   "execution_count": 73,
   "id": "efa11544",
   "metadata": {},
   "outputs": [],
   "source": [
    "initial_consultations_df.drop(labels=['LANCTO','CONTROLE','ANOTACAO','USUARIO','TERMINAL'], axis=1,inplace=True)"
   ]
  },
  {
   "cell_type": "code",
   "execution_count": 74,
   "id": "199cfd97",
   "metadata": {},
   "outputs": [],
   "source": [
    "initial_consultations_df['CNPJ_CPF_masked'] = initial_consultations_df['CNPJ_CPF'].astype(str).str.replace(r\".(?=.{5})\", \"*\", regex=True)"
   ]
  },
  {
   "cell_type": "code",
   "execution_count": 75,
   "id": "88c1eda5",
   "metadata": {},
   "outputs": [],
   "source": [
    "initial_consultations_df.rename(columns={'CNPJ_CPF': 'patient_id_number','DATA':'date','CNPJ_CPF_masked':'patient_id'}, inplace= True)"
   ]
  },
  {
   "cell_type": "code",
   "execution_count": 76,
   "id": "e700e8f1",
   "metadata": {},
   "outputs": [],
   "source": [
    "initial_consultations_df.drop(labels='patient_id_number', axis=1,inplace=True)"
   ]
  },
  {
   "cell_type": "code",
   "execution_count": 77,
   "id": "c25e8fc8",
   "metadata": {},
   "outputs": [
    {
     "data": {
      "text/html": [
       "<div>\n",
       "<style scoped>\n",
       "    .dataframe tbody tr th:only-of-type {\n",
       "        vertical-align: middle;\n",
       "    }\n",
       "\n",
       "    .dataframe tbody tr th {\n",
       "        vertical-align: top;\n",
       "    }\n",
       "\n",
       "    .dataframe thead th {\n",
       "        text-align: right;\n",
       "    }\n",
       "</style>\n",
       "<table border=\"1\" class=\"dataframe\">\n",
       "  <thead>\n",
       "    <tr style=\"text-align: right;\">\n",
       "      <th></th>\n",
       "      <th>date</th>\n",
       "      <th>patient_id</th>\n",
       "    </tr>\n",
       "  </thead>\n",
       "  <tbody>\n",
       "    <tr>\n",
       "      <th>0</th>\n",
       "      <td>2020-02-11</td>\n",
       "      <td>*********20-03</td>\n",
       "    </tr>\n",
       "    <tr>\n",
       "      <th>1</th>\n",
       "      <td>2020-02-12</td>\n",
       "      <td>*********00-02</td>\n",
       "    </tr>\n",
       "    <tr>\n",
       "      <th>2</th>\n",
       "      <td>2020-02-12</td>\n",
       "      <td>*********70-87</td>\n",
       "    </tr>\n",
       "    <tr>\n",
       "      <th>3</th>\n",
       "      <td>2020-02-12</td>\n",
       "      <td>*********50-34</td>\n",
       "    </tr>\n",
       "    <tr>\n",
       "      <th>4</th>\n",
       "      <td>2020-02-28</td>\n",
       "      <td>*********70-46</td>\n",
       "    </tr>\n",
       "    <tr>\n",
       "      <th>...</th>\n",
       "      <td>...</td>\n",
       "      <td>...</td>\n",
       "    </tr>\n",
       "    <tr>\n",
       "      <th>9052</th>\n",
       "      <td>2025-06-04</td>\n",
       "      <td>*********60-91</td>\n",
       "    </tr>\n",
       "    <tr>\n",
       "      <th>9053</th>\n",
       "      <td>2025-06-04</td>\n",
       "      <td>*********10-83</td>\n",
       "    </tr>\n",
       "    <tr>\n",
       "      <th>9054</th>\n",
       "      <td>2025-06-04</td>\n",
       "      <td>*********60-30</td>\n",
       "    </tr>\n",
       "    <tr>\n",
       "      <th>9055</th>\n",
       "      <td>2025-06-04</td>\n",
       "      <td>*********80-91</td>\n",
       "    </tr>\n",
       "    <tr>\n",
       "      <th>9056</th>\n",
       "      <td>2025-06-04</td>\n",
       "      <td>*********80-91</td>\n",
       "    </tr>\n",
       "  </tbody>\n",
       "</table>\n",
       "<p>9057 rows × 2 columns</p>\n",
       "</div>"
      ],
      "text/plain": [
       "           date      patient_id\n",
       "0    2020-02-11  *********20-03\n",
       "1    2020-02-12  *********00-02\n",
       "2    2020-02-12  *********70-87\n",
       "3    2020-02-12  *********50-34\n",
       "4    2020-02-28  *********70-46\n",
       "...         ...             ...\n",
       "9052 2025-06-04  *********60-91\n",
       "9053 2025-06-04  *********10-83\n",
       "9054 2025-06-04  *********60-30\n",
       "9055 2025-06-04  *********80-91\n",
       "9056 2025-06-04  *********80-91\n",
       "\n",
       "[9057 rows x 2 columns]"
      ]
     },
     "execution_count": 77,
     "metadata": {},
     "output_type": "execute_result"
    }
   ],
   "source": [
    "initial_consultations_df"
   ]
  },
  {
   "cell_type": "code",
   "execution_count": 78,
   "id": "e2bf324e",
   "metadata": {},
   "outputs": [
    {
     "name": "stdout",
     "output_type": "stream",
     "text": [
      "<class 'pandas.core.frame.DataFrame'>\n",
      "RangeIndex: 9057 entries, 0 to 9056\n",
      "Data columns (total 2 columns):\n",
      " #   Column      Non-Null Count  Dtype         \n",
      "---  ------      --------------  -----         \n",
      " 0   date        9057 non-null   datetime64[ns]\n",
      " 1   patient_id  9057 non-null   object        \n",
      "dtypes: datetime64[ns](1), object(1)\n",
      "memory usage: 141.6+ KB\n"
     ]
    }
   ],
   "source": [
    "initial_consultations_df.info()"
   ]
  },
  {
   "cell_type": "code",
   "execution_count": 81,
   "id": "a1ca55f2",
   "metadata": {},
   "outputs": [],
   "source": [
    "initial_consultations_df.to_csv('total_clients_df.csv', index=False)"
   ]
  },
  {
   "cell_type": "code",
   "execution_count": 82,
   "id": "3444c840",
   "metadata": {},
   "outputs": [
    {
     "data": {
      "text/html": [
       "<div>\n",
       "<style scoped>\n",
       "    .dataframe tbody tr th:only-of-type {\n",
       "        vertical-align: middle;\n",
       "    }\n",
       "\n",
       "    .dataframe tbody tr th {\n",
       "        vertical-align: top;\n",
       "    }\n",
       "\n",
       "    .dataframe thead th {\n",
       "        text-align: right;\n",
       "    }\n",
       "</style>\n",
       "<table border=\"1\" class=\"dataframe\">\n",
       "  <thead>\n",
       "    <tr style=\"text-align: right;\">\n",
       "      <th></th>\n",
       "      <th>date</th>\n",
       "      <th>patient_id</th>\n",
       "    </tr>\n",
       "  </thead>\n",
       "  <tbody>\n",
       "    <tr>\n",
       "      <th>0</th>\n",
       "      <td>2020-02-11</td>\n",
       "      <td>*********20-03</td>\n",
       "    </tr>\n",
       "    <tr>\n",
       "      <th>1</th>\n",
       "      <td>2020-02-12</td>\n",
       "      <td>*********00-02</td>\n",
       "    </tr>\n",
       "    <tr>\n",
       "      <th>2</th>\n",
       "      <td>2020-02-12</td>\n",
       "      <td>*********70-87</td>\n",
       "    </tr>\n",
       "    <tr>\n",
       "      <th>3</th>\n",
       "      <td>2020-02-12</td>\n",
       "      <td>*********50-34</td>\n",
       "    </tr>\n",
       "    <tr>\n",
       "      <th>4</th>\n",
       "      <td>2020-02-28</td>\n",
       "      <td>*********70-46</td>\n",
       "    </tr>\n",
       "    <tr>\n",
       "      <th>...</th>\n",
       "      <td>...</td>\n",
       "      <td>...</td>\n",
       "    </tr>\n",
       "    <tr>\n",
       "      <th>9052</th>\n",
       "      <td>2025-06-04</td>\n",
       "      <td>*********60-91</td>\n",
       "    </tr>\n",
       "    <tr>\n",
       "      <th>9053</th>\n",
       "      <td>2025-06-04</td>\n",
       "      <td>*********10-83</td>\n",
       "    </tr>\n",
       "    <tr>\n",
       "      <th>9054</th>\n",
       "      <td>2025-06-04</td>\n",
       "      <td>*********60-30</td>\n",
       "    </tr>\n",
       "    <tr>\n",
       "      <th>9055</th>\n",
       "      <td>2025-06-04</td>\n",
       "      <td>*********80-91</td>\n",
       "    </tr>\n",
       "    <tr>\n",
       "      <th>9056</th>\n",
       "      <td>2025-06-04</td>\n",
       "      <td>*********80-91</td>\n",
       "    </tr>\n",
       "  </tbody>\n",
       "</table>\n",
       "<p>9057 rows × 2 columns</p>\n",
       "</div>"
      ],
      "text/plain": [
       "            date      patient_id\n",
       "0     2020-02-11  *********20-03\n",
       "1     2020-02-12  *********00-02\n",
       "2     2020-02-12  *********70-87\n",
       "3     2020-02-12  *********50-34\n",
       "4     2020-02-28  *********70-46\n",
       "...          ...             ...\n",
       "9052  2025-06-04  *********60-91\n",
       "9053  2025-06-04  *********10-83\n",
       "9054  2025-06-04  *********60-30\n",
       "9055  2025-06-04  *********80-91\n",
       "9056  2025-06-04  *********80-91\n",
       "\n",
       "[9057 rows x 2 columns]"
      ]
     },
     "execution_count": 82,
     "metadata": {},
     "output_type": "execute_result"
    }
   ],
   "source": [
    "pd.read_csv('total_clients_df.csv')"
   ]
  },
  {
   "cell_type": "code",
   "execution_count": null,
   "id": "0f55bd0a",
   "metadata": {},
   "outputs": [],
   "source": []
  }
 ],
 "metadata": {
  "kernelspec": {
   "display_name": "base",
   "language": "python",
   "name": "python3"
  },
  "language_info": {
   "codemirror_mode": {
    "name": "ipython",
    "version": 3
   },
   "file_extension": ".py",
   "mimetype": "text/x-python",
   "name": "python",
   "nbconvert_exporter": "python",
   "pygments_lexer": "ipython3",
   "version": "3.13.5"
  }
 },
 "nbformat": 4,
 "nbformat_minor": 5
}
